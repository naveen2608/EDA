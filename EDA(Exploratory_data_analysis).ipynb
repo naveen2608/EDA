{
  "nbformat": 4,
  "nbformat_minor": 0,
  "metadata": {
    "colab": {
      "name": "EDA(Exploratory data analysis)",
      "provenance": [],
      "collapsed_sections": [],
      "authorship_tag": "ABX9TyPHjhiYaRRP2rwB9tl5HoYS",
      "include_colab_link": true
    },
    "kernelspec": {
      "name": "python3",
      "display_name": "Python 3"
    },
    "language_info": {
      "name": "python"
    }
  },
  "cells": [
    {
      "cell_type": "markdown",
      "metadata": {
        "id": "view-in-github",
        "colab_type": "text"
      },
      "source": [
        "<a href=\"https://colab.research.google.com/github/naveen2608/EDA/blob/main/EDA(Exploratory_data_analysis).ipynb\" target=\"_parent\"><img src=\"https://colab.research.google.com/assets/colab-badge.svg\" alt=\"Open In Colab\"/></a>"
      ]
    },
    {
      "cell_type": "markdown",
      "metadata": {
        "id": "oc5d2weGL6ZK"
      },
      "source": [
        "This is very basic tutorial for exploratory data analysis and data visulization on *'IndiaPopulation dataset'*. This dataset is a database \n",
        "to learn the population of india from 1950's to present and it also the \n",
        "growth rate in population every year.we will perform EDA on this data.   \n",
        " we are using the following libaries for this analysis : pandas , numpy , matpotlib, and seaborn .\n",
        "\n",
        "\n",
        "\n"
      ]
    },
    {
      "cell_type": "code",
      "metadata": {
        "id": "Jyxhch27gPeC"
      },
      "source": [
        "# import necessary libaries\n",
        "import pandas as pd\n",
        "import numpy as np\n",
        "import matplotlib.pyplot as plt\n",
        "import seaborn as sns\n",
        "\n",
        "import warnings\n",
        "warnings.filterwarnings(\"ignore\")\n",
        "\n",
        "%matplotlib inline"
      ],
      "execution_count": null,
      "outputs": []
    },
    {
      "cell_type": "code",
      "metadata": {
        "colab": {
          "base_uri": "https://localhost:8080/"
        },
        "id": "qnhtpvTPBvTI",
        "outputId": "d8885973-e89d-4f6a-86f4-1449fcd0443d"
      },
      "source": [
        "population= pd.read_csv('IndiaPopulation_2021.csv')\n",
        "population.shape"
      ],
      "execution_count": null,
      "outputs": [
        {
          "output_type": "execute_result",
          "data": {
            "text/plain": [
              "(72, 3)"
            ]
          },
          "metadata": {},
          "execution_count": 8
        }
      ]
    },
    {
      "cell_type": "markdown",
      "metadata": {
        "id": "xpvk1KCYPOi4"
      },
      "source": [
        "In the below we learn how to information of top five rows and five rows by using head() and tail() method."
      ]
    },
    {
      "cell_type": "code",
      "metadata": {
        "colab": {
          "base_uri": "https://localhost:8080/",
          "height": 203
        },
        "id": "y0N2C-OEL4N4",
        "outputId": "19a67cd0-710a-4cb9-e46f-ed7e0e6764e3"
      },
      "source": [
        "population.head()\n"
      ],
      "execution_count": null,
      "outputs": [
        {
          "output_type": "execute_result",
          "data": {
            "text/html": [
              "<div>\n",
              "<style scoped>\n",
              "    .dataframe tbody tr th:only-of-type {\n",
              "        vertical-align: middle;\n",
              "    }\n",
              "\n",
              "    .dataframe tbody tr th {\n",
              "        vertical-align: top;\n",
              "    }\n",
              "\n",
              "    .dataframe thead th {\n",
              "        text-align: right;\n",
              "    }\n",
              "</style>\n",
              "<table border=\"1\" class=\"dataframe\">\n",
              "  <thead>\n",
              "    <tr style=\"text-align: right;\">\n",
              "      <th></th>\n",
              "      <th>Year</th>\n",
              "      <th>Population</th>\n",
              "      <th>GrowthRate</th>\n",
              "    </tr>\n",
              "  </thead>\n",
              "  <tbody>\n",
              "    <tr>\n",
              "      <th>0</th>\n",
              "      <td>2021</td>\n",
              "      <td>1393409038</td>\n",
              "      <td>0.97</td>\n",
              "    </tr>\n",
              "    <tr>\n",
              "      <th>1</th>\n",
              "      <td>2020</td>\n",
              "      <td>1380004385</td>\n",
              "      <td>0.99</td>\n",
              "    </tr>\n",
              "    <tr>\n",
              "      <th>2</th>\n",
              "      <td>2019</td>\n",
              "      <td>1366417754</td>\n",
              "      <td>1.02</td>\n",
              "    </tr>\n",
              "    <tr>\n",
              "      <th>3</th>\n",
              "      <td>2018</td>\n",
              "      <td>1352642280</td>\n",
              "      <td>1.04</td>\n",
              "    </tr>\n",
              "    <tr>\n",
              "      <th>4</th>\n",
              "      <td>2017</td>\n",
              "      <td>1338676785</td>\n",
              "      <td>1.07</td>\n",
              "    </tr>\n",
              "  </tbody>\n",
              "</table>\n",
              "</div>"
            ],
            "text/plain": [
              "   Year  Population  GrowthRate\n",
              "0  2021  1393409038        0.97\n",
              "1  2020  1380004385        0.99\n",
              "2  2019  1366417754        1.02\n",
              "3  2018  1352642280        1.04\n",
              "4  2017  1338676785        1.07"
            ]
          },
          "metadata": {},
          "execution_count": 9
        }
      ]
    },
    {
      "cell_type": "code",
      "metadata": {
        "colab": {
          "base_uri": "https://localhost:8080/",
          "height": 203
        },
        "id": "Rup-ksjAULVv",
        "outputId": "f8666acb-544f-4155-912c-e23f6f1ae569"
      },
      "source": [
        "population.tail()"
      ],
      "execution_count": null,
      "outputs": [
        {
          "output_type": "execute_result",
          "data": {
            "text/html": [
              "<div>\n",
              "<style scoped>\n",
              "    .dataframe tbody tr th:only-of-type {\n",
              "        vertical-align: middle;\n",
              "    }\n",
              "\n",
              "    .dataframe tbody tr th {\n",
              "        vertical-align: top;\n",
              "    }\n",
              "\n",
              "    .dataframe thead th {\n",
              "        text-align: right;\n",
              "    }\n",
              "</style>\n",
              "<table border=\"1\" class=\"dataframe\">\n",
              "  <thead>\n",
              "    <tr style=\"text-align: right;\">\n",
              "      <th></th>\n",
              "      <th>Year</th>\n",
              "      <th>Population</th>\n",
              "      <th>GrowthRate</th>\n",
              "    </tr>\n",
              "  </thead>\n",
              "  <tbody>\n",
              "    <tr>\n",
              "      <th>67</th>\n",
              "      <td>1954</td>\n",
              "      <td>402578596</td>\n",
              "      <td>1.78</td>\n",
              "    </tr>\n",
              "    <tr>\n",
              "      <th>68</th>\n",
              "      <td>1953</td>\n",
              "      <td>395544369</td>\n",
              "      <td>1.73</td>\n",
              "    </tr>\n",
              "    <tr>\n",
              "      <th>69</th>\n",
              "      <td>1952</td>\n",
              "      <td>388799073</td>\n",
              "      <td>1.68</td>\n",
              "    </tr>\n",
              "    <tr>\n",
              "      <th>70</th>\n",
              "      <td>1951</td>\n",
              "      <td>382376948</td>\n",
              "      <td>1.61</td>\n",
              "    </tr>\n",
              "    <tr>\n",
              "      <th>71</th>\n",
              "      <td>1950</td>\n",
              "      <td>376325200</td>\n",
              "      <td>0.00</td>\n",
              "    </tr>\n",
              "  </tbody>\n",
              "</table>\n",
              "</div>"
            ],
            "text/plain": [
              "    Year  Population  GrowthRate\n",
              "67  1954   402578596        1.78\n",
              "68  1953   395544369        1.73\n",
              "69  1952   388799073        1.68\n",
              "70  1951   382376948        1.61\n",
              "71  1950   376325200        0.00"
            ]
          },
          "metadata": {},
          "execution_count": 10
        }
      ]
    },
    {
      "cell_type": "markdown",
      "metadata": {
        "id": "MrpMA4Y6U-iz"
      },
      "source": [
        "From the above data we learn that it contains three columns giving the information about the population in particular year and its growth rate."
      ]
    },
    {
      "cell_type": "code",
      "metadata": {
        "colab": {
          "base_uri": "https://localhost:8080/"
        },
        "id": "SW2tHANZVdm0",
        "outputId": "545833e9-b31d-4df1-ee08-18c43ab153f8"
      },
      "source": [
        "population.GrowthRate.unique"
      ],
      "execution_count": null,
      "outputs": [
        {
          "output_type": "execute_result",
          "data": {
            "text/plain": [
              "<bound method Series.unique of 0     0.97\n",
              "1     0.99\n",
              "2     1.02\n",
              "3     1.04\n",
              "4     1.07\n",
              "      ... \n",
              "67    1.78\n",
              "68    1.73\n",
              "69    1.68\n",
              "70    1.61\n",
              "71    0.00\n",
              "Name: GrowthRate, Length: 72, dtype: float64>"
            ]
          },
          "metadata": {},
          "execution_count": 11
        }
      ]
    },
    {
      "cell_type": "markdown",
      "metadata": {
        "id": "PsWDW5w4WNIf"
      },
      "source": [
        "In the above by using the 'unique' we are knowing is any values are same in certain row. "
      ]
    },
    {
      "cell_type": "markdown",
      "metadata": {
        "id": "6AMnlCKwc68_"
      },
      "source": [
        "Now plotting the graph between year and population and in between year and growth rate."
      ]
    },
    {
      "cell_type": "code",
      "metadata": {
        "colab": {
          "base_uri": "https://localhost:8080/",
          "height": 307
        },
        "id": "fjM6HF20bU-f",
        "outputId": "576497c1-c3c4-4097-d3bf-735767f546ee"
      },
      "source": [
        "sns.lineplot(x=population.Year, y=population.Population)"
      ],
      "execution_count": null,
      "outputs": [
        {
          "output_type": "execute_result",
          "data": {
            "text/plain": [
              "<matplotlib.axes._subplots.AxesSubplot at 0x7fd54dff0650>"
            ]
          },
          "metadata": {},
          "execution_count": 17
        },
        {
          "output_type": "display_data",
          "data": {
            "image/png": "[encoded data removed]",
            "text/plain": [
              "<Figure size 432x288 with 1 Axes>"
            ]
          },
          "metadata": {
            "needs_background": "light"
          }
        }
      ]
    },
    {
      "cell_type": "markdown",
      "metadata": {
        "id": "JH7-jm4XiIJ0"
      },
      "source": [
        "Above is the lineplot graph showing the increase in the population as years changing."
      ]
    },
    {
      "cell_type": "code",
      "metadata": {
        "colab": {
          "base_uri": "https://localhost:8080/",
          "height": 296
        },
        "id": "0yAyXlsRikM_",
        "outputId": "f2235c40-4355-4c25-e7c3-65d97f1d2b04"
      },
      "source": [
        "sns.lineplot(x=population.Year,y=population.GrowthRate)"
      ],
      "execution_count": null,
      "outputs": [
        {
          "output_type": "execute_result",
          "data": {
            "text/plain": [
              "<matplotlib.axes._subplots.AxesSubplot at 0x7fd54c647f50>"
            ]
          },
          "metadata": {},
          "execution_count": 15
        },
        {
          "output_type": "display_data",
          "data": {
            "image/png": "[encoded data removed]",
            "text/plain": [
              "<Figure size 432x288 with 1 Axes>"
            ]
          },
          "metadata": {
            "needs_background": "light"
          }
        }
      ]
    },
    {
      "cell_type": "markdown",
      "metadata": {
        "id": "Js4KuDKOjGE9"
      },
      "source": [
        "Above linegraph shows the information on how the growth rate varies among the years."
      ]
    }
  ]
}